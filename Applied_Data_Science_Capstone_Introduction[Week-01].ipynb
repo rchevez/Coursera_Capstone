{
 "cells": [
  {
   "cell_type": "markdown",
   "metadata": {},
   "source": [
    "## Capstone Project: The Battle of Neighborhoods [Part - 01]\n",
    "\n",
    "### Mission\n",
    "\n",
    "Clearly define a problem or an idea of your choice, where you would need to leverage the Foursquare location data to solve or execute. Remember that data science problems always target an audience and are meant to help a group of stakeholders solve a problem, so make sure that you explicitly describe your audience and why they would care about your problem.\n",
    "\n",
    "This submission will eventually become your Introduction/Business Problem section in your final report. So I recommend that you push the report (having your Introduction/Business Problem section only for now) to your Github repository and submit a link to it.\n",
    "\n",
    "A description of the problem and a discussion of the background. (15 marks)"
   ]
  },
  {
   "cell_type": "markdown",
   "metadata": {},
   "source": [
    "<html><h1>&emsp;&emsp;&emsp;&emsp;&emsp;&emsp;&emsp;&emsp;&emsp;&emsp;Part-01 - Solution</h1></html>\n",
    "\n",
    "The following is a brief description of the problem to be solved and the background\n",
    "\n",
    "\n",
    "## 1.  Problem Information\n",
    "\n",
    "The problem is to satisfy the tourist or group of tourists with the information requested by them about the places of leisure, entertainment and services located near the hotel where they will be staying, in this particular case near the Pansilvania Hotel located at 401 7th Avenue, New York City, US 10001.\n",
    "\n",
    "Providing this information to the tourist will help them to reduce the time in searching for these places and the time saved in it to take advantage of it to enjoy their stay in places of leisure, restaurant, entertainment or other place.\n",
    "\n",
    "In order to satisfy this requirement, I must make use of data analysis tools.\n",
    "\n",
    "## 2.  Background\n",
    "\n",
    "Tourists when they travel to new places, they look for tourist packages to know the most emblematic places of the visited country, generally visiting these tourist places occupy most of the day and they are mostly made during the morning and part of the afternoon, when the tourists return in in the afternoon and at night, they tend to visit places that are close to the hotel, for example:\n",
    "- Rental Car Location.\n",
    "- Bank.\n",
    "- Nightclub.\n",
    "- Theater,\n",
    "- Movie Theater.\n",
    "- National Park.\n",
    "\n",
    "Having a list of information grouped by categories and ordered by rating, likes and distance helps a lot to the tourist to choose the suitable and recommended place where he would spend a pleasant and eliminating moment so that they waste time searching for this information that the travel agency could provide it in advance."
   ]
  }
 ],
 "metadata": {
  "kernelspec": {
   "display_name": "Python 3",
   "language": "python",
   "name": "python3"
  },
  "language_info": {
   "codemirror_mode": {
    "name": "ipython",
    "version": 3
   },
   "file_extension": ".py",
   "mimetype": "text/x-python",
   "name": "python",
   "nbconvert_exporter": "python",
   "pygments_lexer": "ipython3",
   "version": "3.7.4"
  }
 },
 "nbformat": 4,
 "nbformat_minor": 4
}
